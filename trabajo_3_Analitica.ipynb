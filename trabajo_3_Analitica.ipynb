{
  "nbformat": 4,
  "nbformat_minor": 0,
  "metadata": {
    "colab": {
      "provenance": [],
      "include_colab_link": true
    },
    "kernelspec": {
      "name": "python3",
      "display_name": "Python 3"
    },
    "language_info": {
      "name": "python"
    }
  },
  "cells": [
    {
      "cell_type": "markdown",
      "metadata": {
        "id": "view-in-github",
        "colab_type": "text"
      },
      "source": [
        "<a href=\"https://colab.research.google.com/github/Isaezc/trabajo_3_analitica/blob/main/trabajo_3_Analitica.ipynb\" target=\"_parent\"><img src=\"https://colab.research.google.com/assets/colab-badge.svg\" alt=\"Open In Colab\"/></a>"
      ]
    },
    {
      "cell_type": "markdown",
      "source": [],
      "metadata": {
        "id": "dV_VRzJKX0VZ"
      }
    },
    {
      "cell_type": "markdown",
      "source": [
        "**Nombre de los integrantes:**\n",
        "\n",
        "\\\n",
        "\n",
        "* **Integrante 1:** Juan José Monsalve Patiño \\\\\n",
        "* **Integrante 2:** Pamela Escobar Marin \\\\\n",
        "* **Integrante 3:** TuGatita09 \\\\\n",
        "* **Integrante 4:** Juan Pablo Escobar Marin\n"
      ],
      "metadata": {
        "id": "nJ1sheNMYK3D"
      }
    },
    {
      "cell_type": "markdown",
      "source": [
        "**Definición del problema**\n",
        "\n",
        "\n"
      ],
      "metadata": {
        "id": "smdBMYj6YO8K"
      }
    },
    {
      "cell_type": "markdown",
      "source": [
        "## Importacion de librerias\n"
      ],
      "metadata": {
        "id": "9eb396d3Yjwt"
      }
    },
    {
      "cell_type": "code",
      "execution_count": null,
      "metadata": {
        "id": "bU7itax_XZaX"
      },
      "outputs": [],
      "source": [
        "from PIL import Image\n",
        "from glob import glob\n",
        "from keras.layers import *\n",
        "from keras.models import *\n",
        "from keras.preprocessing import image\n",
        "from keras.preprocessing.image import ImageDataGenerator\n",
        "from keras.utils import *\n",
        "from pathlib import Path\n",
        "from shutil import copyfile, rmtree\n",
        "from skimage import feature, io\n",
        "from skimage import io, transform\n",
        "from skimage.feature import hog\n",
        "from sklearn.linear_model import LogisticRegression\n",
        "from sklearn.metrics import confusion_matrix\n",
        "from sklearn.metrics import roc_curve, auc, accuracy_score, precision_score, recall_score, f1_score, confusion_matrix, classification_report\n",
        "from sklearn.model_selection import train_test_split\n",
        "from sklearn.preprocessing import LabelEncoder\n",
        "from sklearn.preprocessing import MinMaxScaler\n",
        "from sklearn.svm import SVC\n",
        "from tensorflow import keras\n",
        "from tensorflow.keras.applications.inception_v3 import preprocess_input\n",
        "from tensorflow.keras.applications.resnet50 import ResNet50, preprocess_input\n",
        "from tensorflow.keras.callbacks import ModelCheckpoint\n",
        "from tensorflow.keras.layers import Conv2D, MaxPooling2D, Flatten, Dense, Dropout\n",
        "from tensorflow.keras.layers import GlobalAveragePooling2D, Dense\n",
        "from tensorflow.keras.layers import Input, Lambda, Dense, Flatten\n",
        "from tensorflow.keras.losses import SparseCategoricalCrossentropy\n",
        "from tensorflow.keras.models import Model\n",
        "from tensorflow.keras.models import Sequential\n",
        "from tensorflow.keras.optimizers import Adam\n",
        "from tensorflow.keras.preprocessing import image\n",
        "from tensorflow.keras.preprocessing.image import ImageDataGenerator\n",
        "import cv2\n",
        "import itertools\n",
        "import matplotlib.pyplot as plt\n",
        "import numpy as np\n",
        "import os\n",
        "import pandas as pd\n",
        "import random\n",
        "import seaborn as sns\n",
        "import shutil\n",
        "import tensorflow as tf\n",
        "import tensorflow_hub as hub\n",
        "from sklearn.metrics import precision_score, recall_score, f1_score, roc_auc_score,confusion_matrix, precision_recall_curve, auc, roc_curve\n",
        "from tensorflow.keras import layers, models\n",
        "from sklearn.metrics import ConfusionMatrixDisplay\n"
      ]
    },
    {
      "cell_type": "markdown",
      "source": [
        "# Análisis descriptivo y exploratorio"
      ],
      "metadata": {
        "id": "Ex_fSk4bY49r"
      }
    },
    {
      "cell_type": "code",
      "source": [
        "without = 'trabajo_3_analitica/imagenes/without'\n",
        "withh = 'imagenes/withh'\n",
        "print('Cantidad de imagenes sin gafas:', len(os.listdir(without)))\n",
        "print('Cantidad de imagenes con gafas:', len(os.listdir(withh)))"
      ],
      "metadata": {
        "colab": {
          "base_uri": "https://localhost:8080/",
          "height": 227
        },
        "id": "fVBVek4fY2ej",
        "outputId": "5a50b223-3d38-428e-e25b-68824161e896"
      },
      "execution_count": null,
      "outputs": [
        {
          "output_type": "error",
          "ename": "FileNotFoundError",
          "evalue": "ignored",
          "traceback": [
            "\u001b[0;31m---------------------------------------------------------------------------\u001b[0m",
            "\u001b[0;31mFileNotFoundError\u001b[0m                         Traceback (most recent call last)",
            "\u001b[0;32m<ipython-input-9-4a78d4c7021a>\u001b[0m in \u001b[0;36m<cell line: 3>\u001b[0;34m()\u001b[0m\n\u001b[1;32m      1\u001b[0m \u001b[0mwithout\u001b[0m \u001b[0;34m=\u001b[0m \u001b[0;34m'trabajo_3_analitica/imagenes/without'\u001b[0m\u001b[0;34m\u001b[0m\u001b[0;34m\u001b[0m\u001b[0m\n\u001b[1;32m      2\u001b[0m \u001b[0mwithh\u001b[0m \u001b[0;34m=\u001b[0m \u001b[0;34m'imagenes/withh'\u001b[0m\u001b[0;34m\u001b[0m\u001b[0;34m\u001b[0m\u001b[0m\n\u001b[0;32m----> 3\u001b[0;31m \u001b[0mprint\u001b[0m\u001b[0;34m(\u001b[0m\u001b[0;34m'Cantidad de imagenes sin gafas:'\u001b[0m\u001b[0;34m,\u001b[0m \u001b[0mlen\u001b[0m\u001b[0;34m(\u001b[0m\u001b[0mos\u001b[0m\u001b[0;34m.\u001b[0m\u001b[0mlistdir\u001b[0m\u001b[0;34m(\u001b[0m\u001b[0mwithout\u001b[0m\u001b[0;34m)\u001b[0m\u001b[0;34m)\u001b[0m\u001b[0;34m)\u001b[0m\u001b[0;34m\u001b[0m\u001b[0;34m\u001b[0m\u001b[0m\n\u001b[0m\u001b[1;32m      4\u001b[0m \u001b[0mprint\u001b[0m\u001b[0;34m(\u001b[0m\u001b[0;34m'Cantidad de imagenes con gafas:'\u001b[0m\u001b[0;34m,\u001b[0m \u001b[0mlen\u001b[0m\u001b[0;34m(\u001b[0m\u001b[0mos\u001b[0m\u001b[0;34m.\u001b[0m\u001b[0mlistdir\u001b[0m\u001b[0;34m(\u001b[0m\u001b[0mwithh\u001b[0m\u001b[0;34m)\u001b[0m\u001b[0;34m)\u001b[0m\u001b[0;34m)\u001b[0m\u001b[0;34m\u001b[0m\u001b[0;34m\u001b[0m\u001b[0m\n",
            "\u001b[0;31mFileNotFoundError\u001b[0m: [Errno 2] No such file or directory: 'trabajo_3_analitica/imagenes/without'"
          ]
        }
      ]
    },
    {
      "cell_type": "code",
      "source": [
        "import os\n",
        "print(os.getcwd())"
      ],
      "metadata": {
        "colab": {
          "base_uri": "https://localhost:8080/"
        },
        "id": "WfVnzcVodJqv",
        "outputId": "bd9971c2-7cdc-4b48-b798-2ca5dcd94cf1"
      },
      "execution_count": null,
      "outputs": [
        {
          "output_type": "stream",
          "name": "stdout",
          "text": [
            "/content\n"
          ]
        }
      ]
    },
    {
      "cell_type": "markdown",
      "source": [
        "#Cargar y Preprocesar Imágenes"
      ],
      "metadata": {
        "id": "Bm0967N-Y9NG"
      }
    },
    {
      "cell_type": "code",
      "source": [
        "dataset_dir = 'imagenes'\n",
        "X = []\n",
        "y = []\n",
        "for label, category in enumerate(['withh','without']):\n",
        "    category_dir=os.path.join(dataset_dir,category)\n",
        "    for filename in os.listdir(category_dir):\n",
        "        img_path=os.path.join(category_dir,filename)\n",
        "        if os.path.isfile(img_path):\n",
        "            img = io.imread(img_path)\n",
        "            img = transform.resize(img,(64,64,3)).flatten()\n",
        "            X.append(img)\n",
        "            y.append(label)\n",
        "X = np.array(X)\n",
        "y = np.array(y)\n",
        "X_train, X_test, y_train, y_test = train_test_split(X, y, test_size=0.2, random_state=42)"
      ],
      "metadata": {
        "id": "GM4UbohMZBzN",
        "colab": {
          "base_uri": "https://localhost:8080/",
          "height": 245
        },
        "outputId": "e49415ee-3191-420f-b802-78402accf22c"
      },
      "execution_count": null,
      "outputs": [
        {
          "output_type": "error",
          "ename": "FileNotFoundError",
          "evalue": "ignored",
          "traceback": [
            "\u001b[0;31m---------------------------------------------------------------------------\u001b[0m",
            "\u001b[0;31mFileNotFoundError\u001b[0m                         Traceback (most recent call last)",
            "\u001b[0;32m<ipython-input-5-72253aef4ea7>\u001b[0m in \u001b[0;36m<cell line: 4>\u001b[0;34m()\u001b[0m\n\u001b[1;32m      4\u001b[0m \u001b[0;32mfor\u001b[0m \u001b[0mlabel\u001b[0m\u001b[0;34m,\u001b[0m \u001b[0mcategory\u001b[0m \u001b[0;32min\u001b[0m \u001b[0menumerate\u001b[0m\u001b[0;34m(\u001b[0m\u001b[0;34m[\u001b[0m\u001b[0;34m'withh'\u001b[0m\u001b[0;34m,\u001b[0m\u001b[0;34m'without'\u001b[0m\u001b[0;34m]\u001b[0m\u001b[0;34m)\u001b[0m\u001b[0;34m:\u001b[0m\u001b[0;34m\u001b[0m\u001b[0;34m\u001b[0m\u001b[0m\n\u001b[1;32m      5\u001b[0m     \u001b[0mcategory_dir\u001b[0m\u001b[0;34m=\u001b[0m\u001b[0mos\u001b[0m\u001b[0;34m.\u001b[0m\u001b[0mpath\u001b[0m\u001b[0;34m.\u001b[0m\u001b[0mjoin\u001b[0m\u001b[0;34m(\u001b[0m\u001b[0mdataset_dir\u001b[0m\u001b[0;34m,\u001b[0m\u001b[0mcategory\u001b[0m\u001b[0;34m)\u001b[0m\u001b[0;34m\u001b[0m\u001b[0;34m\u001b[0m\u001b[0m\n\u001b[0;32m----> 6\u001b[0;31m     \u001b[0;32mfor\u001b[0m \u001b[0mfilename\u001b[0m \u001b[0;32min\u001b[0m \u001b[0mos\u001b[0m\u001b[0;34m.\u001b[0m\u001b[0mlistdir\u001b[0m\u001b[0;34m(\u001b[0m\u001b[0mcategory_dir\u001b[0m\u001b[0;34m)\u001b[0m\u001b[0;34m:\u001b[0m\u001b[0;34m\u001b[0m\u001b[0;34m\u001b[0m\u001b[0m\n\u001b[0m\u001b[1;32m      7\u001b[0m         \u001b[0mimg_path\u001b[0m\u001b[0;34m=\u001b[0m\u001b[0mos\u001b[0m\u001b[0;34m.\u001b[0m\u001b[0mpath\u001b[0m\u001b[0;34m.\u001b[0m\u001b[0mjoin\u001b[0m\u001b[0;34m(\u001b[0m\u001b[0mcategory_dir\u001b[0m\u001b[0;34m,\u001b[0m\u001b[0mfilename\u001b[0m\u001b[0;34m)\u001b[0m\u001b[0;34m\u001b[0m\u001b[0;34m\u001b[0m\u001b[0m\n\u001b[1;32m      8\u001b[0m         \u001b[0;32mif\u001b[0m \u001b[0mos\u001b[0m\u001b[0;34m.\u001b[0m\u001b[0mpath\u001b[0m\u001b[0;34m.\u001b[0m\u001b[0misfile\u001b[0m\u001b[0;34m(\u001b[0m\u001b[0mimg_path\u001b[0m\u001b[0;34m)\u001b[0m\u001b[0;34m:\u001b[0m\u001b[0;34m\u001b[0m\u001b[0;34m\u001b[0m\u001b[0m\n",
            "\u001b[0;31mFileNotFoundError\u001b[0m: [Errno 2] No such file or directory: 'imagenes/withh'"
          ]
        }
      ]
    },
    {
      "cell_type": "markdown",
      "source": [
        "#Previsualizacion del dataset\n"
      ],
      "metadata": {
        "id": "7RBM8NdVbvkj"
      }
    },
    {
      "cell_type": "code",
      "source": [
        "import matplotlib.pyplot as plt\n",
        "fig,axes=plt.subplots(2,5,figsize=(12,6))\n",
        "for label, category in enumerate(['withh','without']):\n",
        "    category_dir=os.path.join(dataset_dir,category)\n",
        "    image_files=os.listdir(category_dir)[:5]\n",
        "    for i,filename in enumerate(image_files):\n",
        "        img_path=os.path.join(category_dir, filename)\n",
        "        img=io.imread(img_path)\n",
        "        axes[label, i].imshow(img, cmap='gray')\n",
        "        axes[label, i].set_title(category)\n",
        "        axes[label, i].axis('off')\n",
        "plt.show()"
      ],
      "metadata": {
        "id": "gqVhWVCBbBNc"
      },
      "execution_count": null,
      "outputs": []
    },
    {
      "cell_type": "markdown",
      "source": [
        "##Construir y Entrenar el Modelo"
      ],
      "metadata": {
        "id": "EpfzGkBqcbS_"
      }
    },
    {
      "cell_type": "code",
      "source": [
        "model = models.Sequential([\n",
        "    layers.Dense(4096,activation='relu',input_shape=(64*64*3,),kernel_initializer='glorot_uniform',bias_initializer='zeros'),\n",
        "    layers.Dropout(0.5),\n",
        "    layers.Dense(1, activation='sigmoid')\n",
        "])\n",
        "model.compile(optimizer='adam', loss='binary_crossentropy', metrics=['accuracy'])\n",
        "model.fit(X_train, y_train, epochs=10, batch_size=32, validation_data=(X_test, y_test))"
      ],
      "metadata": {
        "id": "VfyCrbuGce36"
      },
      "execution_count": null,
      "outputs": []
    },
    {
      "cell_type": "markdown",
      "source": [
        "#Testing"
      ],
      "metadata": {
        "id": "hyn9hKaGdwtH"
      }
    },
    {
      "cell_type": "code",
      "source": [
        "predictions = model.predict(X_test)\n",
        "threshold = 0.5\n",
        "predicted_classes = (predictions>threshold).astype(int)\n",
        "from sklearn.metrics import accuracy_score, classification_report\n",
        "accuracy = accuracy_score(y_test, predicted_classes)\n",
        "report = classification_report(y_test, predicted_classes)\n",
        "print(f'Precisión: {accuracy}') #poner como una bolita que grafique el porcentaje,(que salga el resultado en porcentaje y redondear)"
      ],
      "metadata": {
        "id": "tsvAXYq4dx5l"
      },
      "execution_count": null,
      "outputs": []
    },
    {
      "cell_type": "markdown",
      "source": [
        "#Predicción"
      ],
      "metadata": {
        "id": "jZCm61EHaN-N"
      }
    },
    {
      "cell_type": "code",
      "source": [
        "img_path = '/content/imagenes/withh/choon_left_happy_sunglasses_4.pgm'\n",
        "imagen_1 = io.imread(img_path)\n",
        "imagen_1 = transform.resize(imagen_1,(64,64,3)).flatten()\n",
        "imagen_1 = np.expand_dims(imagen_1,axis=0)\n",
        "prediction = model.predict(imagen_1)\n",
        "threshold = 0.5\n",
        "predicted_class = (prediction > threshold).astype(int)\n",
        "print(f'La probabilidad de que esta imagen contenga un rostro con gafas es de: {prediction[0][0]}')\n",
        "print(f'Predicción (0: Sin Gafas, 1: Con Gafas): {predicted_class[0]}') # en vez de decir 0 o 1 imprimir un mensaje que diga \"si contiene unas gafas\" o \"no contiene unas gafas\""
      ],
      "metadata": {
        "id": "tE30KGJYZ7Fx"
      },
      "execution_count": null,
      "outputs": []
    },
    {
      "cell_type": "code",
      "source": [
        "img_path2 = '/content/imagenes/withh/kawamura_up_sad_sunglasses_4.pgm'\n",
        "imagen_2 = io.imread(img_path2)\n",
        "imagen_2 = transform.resize(imagen_2, (64, 64, 3)).flatten()\n",
        "imagen_2 = np.expand_dims(imagen_2, axis=0)\n",
        "prediction2 = model.predict(imagen_2)\n",
        "threshold = 0.5\n",
        "predicted_class2 = (prediction > threshold).astype(int)\n",
        "print(f'Probabilidad de tener gafas: {prediction2[0][0]}')\n",
        "print(f'Predicción (0: Sin Gafas, 1: Con Gafas): {predicted_class2[0]}')"
      ],
      "metadata": {
        "id": "O5Pgwg8hbvmq"
      },
      "execution_count": null,
      "outputs": []
    },
    {
      "cell_type": "markdown",
      "source": [
        "# Precisión, recall y F1-score"
      ],
      "metadata": {
        "id": "lMUtgtEujg7I"
      }
    },
    {
      "cell_type": "code",
      "source": [
        "#Precisión, Recall y F1-score\n",
        "precision = precision_score(y_test, predicted_classes)\n",
        "recall = recall_score(y_test, predicted_classes)\n",
        "f1 = f1_score(y_test, predicted_classes)\n",
        "print(f'Precision:{precision}')\n",
        "print(f'Recall:{recall}')\n",
        "print(f'F1-score:{f1}')\n",
        "roc_auc = roc_auc_score(y_test, predictions)\n",
        "print(f'Área bajo la curva: {roc_auc}')\n",
        "## mostrar esto de una manera mas estetica, con imagenes o botones dibujaditos"
      ],
      "metadata": {
        "id": "qDgey1j8jbYg"
      },
      "execution_count": null,
      "outputs": []
    },
    {
      "cell_type": "markdown",
      "source": [
        "# Matriz de Confusión"
      ],
      "metadata": {
        "id": "Yi_XV0eoi325"
      }
    },
    {
      "cell_type": "code",
      "source": [
        "cm = confusion_matrix(y_test, predicted_classes)\n",
        "sns.set(font_scale=1.2)  # Ajusta el tamaño de la fuente\n",
        "plt.figure(figsize=(8, 6))\n",
        "ConfusionMatrixDisplay(confusion_matrix=cm, display_labels=['witout', 'withh']).plot(cmap='Blues')## cambiar colores a la matriz\n",
        "plt.title('Matriz de Confusión')\n",
        "plt.show()"
      ],
      "metadata": {
        "id": "lCJZY_Qkhwtv"
      },
      "execution_count": null,
      "outputs": []
    },
    {
      "cell_type": "markdown",
      "source": [
        "# Curva de Precisión-Recall"
      ],
      "metadata": {
        "id": "lp1_qAKWi7xK"
      }
    },
    {
      "cell_type": "code",
      "source": [
        "precision, recall, thresholds = precision_recall_curve(y_test, predictions)\n",
        "area_under_curve = auc(recall, precision)\n",
        "plt.figure(figsize=(8, 6))\n",
        "plt.plot(recall, precision, color='darkorange', lw=2, label='Curva PR (area = {:.2f})'.format(area_under_curve)) #cambiar color y tamaños\n",
        "plt.xlabel('Recall')\n",
        "plt.ylabel('Precisión')\n",
        "plt.title('Curva de Precisión y Recall')\n",
        "plt.legend(loc='uppper right')\n",
        "plt.show()"
      ],
      "metadata": {
        "id": "OLpy1y4sh2Jo"
      },
      "execution_count": null,
      "outputs": []
    },
    {
      "cell_type": "markdown",
      "source": [
        "#Receiver operating characteristic curve"
      ],
      "metadata": {
        "id": "Y9eK43w7jAtR"
      }
    },
    {
      "cell_type": "code",
      "source": [
        "fpr, tpr, _ = roc_curve(y_test, predictions)\n",
        "roc_auc = auc(fpr, tpr)\n",
        "plt.figure(figsize=(8, 6))\n",
        "plt.plot(fpr, tpr, color='darkgreen', lw=2, label='Curva ROC (area = {:.2f})'.format(roc_auc))#cambiar color\n",
        "plt.plot([0, 1], [0, 1], color='navy', lw=2, linestyle='--')#cambiar color\n",
        "plt.xlabel('Relacion de Falsos Positivos')\n",
        "plt.ylabel('Relacion de Verdaderos Positivos')\n",
        "plt.title('Receiver operating characteristic curve')\n",
        "plt.legend(loc='lower right')\n",
        "plt.show()"
      ],
      "metadata": {
        "id": "O4uyEHDpiQqi"
      },
      "execution_count": null,
      "outputs": []
    }
  ]
}